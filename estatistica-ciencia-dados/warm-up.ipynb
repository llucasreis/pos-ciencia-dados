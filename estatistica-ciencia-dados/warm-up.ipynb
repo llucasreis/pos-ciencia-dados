{
 "cells": [
  {
   "cell_type": "code",
   "execution_count": 1,
   "metadata": {},
   "outputs": [
    {
     "name": "stdout",
     "output_type": "stream",
     "text": [
      "Python 3.8.2\n"
     ]
    }
   ],
   "source": [
    "!python --version\n",
    "# conda install -c anaconda python=3.8"
   ]
  },
  {
   "cell_type": "code",
   "execution_count": 2,
   "metadata": {},
   "outputs": [],
   "source": [
    "import numpy as np\n",
    "import statistics as st\n",
    "import seaborn as sns\n",
    "from scipy import stats\n",
    "import matplotlib.pyplot as plt"
   ]
  },
  {
   "cell_type": "code",
   "execution_count": 3,
   "metadata": {},
   "outputs": [],
   "source": [
    "turma_a = [4, 5, 5, 6, 6, 7, 7, 8]\n",
    "turma_b = [1, 2, 4, 6, 6, 9, 10, 10]\n",
    "turma_c = [0, 6, 7, 7, 7, 7.5, 7.5]\n",
    "\n",
    "turmas = {'A': turma_a, 'B': turma_b, 'C': turma_c}"
   ]
  },
  {
   "cell_type": "code",
   "execution_count": 8,
   "metadata": {},
   "outputs": [
    {
     "name": "stdout",
     "output_type": "stream",
     "text": [
      "Média aritmética da turma A: 6\n",
      "\n",
      "Média aritmética da turma B: 6\n",
      "\n",
      "Média aritmética da turma C: 6.0\n",
      "\n"
     ]
    }
   ],
   "source": [
    "for turma, notas in turmas.items():\n",
    "    print(f'Média aritmética da turma {turma}: {st.mean(notas)}\\n')"
   ]
  },
  {
   "cell_type": "code",
   "execution_count": 9,
   "metadata": {},
   "outputs": [
    {
     "name": "stdout",
     "output_type": "stream",
     "text": [
      "Mediana da turma A: 6.0\n",
      "\n",
      "Mediana da turma B: 6.0\n",
      "\n",
      "Mediana da turma C: 7\n",
      "\n"
     ]
    }
   ],
   "source": [
    "for turma, notas in turmas.items():\n",
    "    print(f'Mediana da turma {turma}: {st.median(notas)}\\n')"
   ]
  },
  {
   "cell_type": "code",
   "execution_count": 10,
   "metadata": {},
   "outputs": [
    {
     "name": "stdout",
     "output_type": "stream",
     "text": [
      "Moda da turma A: [5, 6, 7]\n",
      "\n",
      "Moda da turma B: [6, 10]\n",
      "\n",
      "Moda da turma C: [7]\n",
      "\n"
     ]
    }
   ],
   "source": [
    "for turma, notas in turmas.items():\n",
    "    print(f'Moda da turma {turma}: {st.multimode(notas)}\\n')"
   ]
  },
  {
   "cell_type": "code",
   "execution_count": 15,
   "metadata": {},
   "outputs": [
    {
     "name": "stdout",
     "output_type": "stream",
     "text": [
      "Desvio Padrão Amostral da turma A: 1.31\n",
      "\n",
      "Desvio Padrão Amostral da turma B: 3.51\n",
      "\n",
      "Desvio Padrão Amostral da turma C: 2.69\n",
      "\n"
     ]
    }
   ],
   "source": [
    "for turma, notas in turmas.items():\n",
    "    print(f'Desvio Padrão Amostral da turma {turma}: {round(st.stdev(notas), 2)}\\n')"
   ]
  },
  {
   "cell_type": "code",
   "execution_count": 13,
   "metadata": {},
   "outputs": [
    {
     "name": "stdout",
     "output_type": "stream",
     "text": [
      "Coeficiente de variação da turma A: 21.82\n",
      "\n",
      "Coeficiente de variação da turma B: 58.42\n",
      "\n",
      "Coeficiente de variação da turma C: 44.88\n",
      "\n"
     ]
    }
   ],
   "source": [
    "def cv(n):\n",
    "    num = 100*st.stdev(n)/st.mean(n)\n",
    "    return round(num, 2)\n",
    "\n",
    "for turma, notas in turmas.items():\n",
    "    print(f'Coeficiente de variação da turma {turma}: {cv(notas)}\\n')"
   ]
  },
  {
   "cell_type": "code",
   "execution_count": 26,
   "metadata": {},
   "outputs": [
    {
     "data": {
      "image/png": "[encoded data removed]",
      "text/plain": [
       "<Figure size 432x288 with 1 Axes>"
      ]
     },
     "metadata": {
      "needs_background": "light"
     },
     "output_type": "display_data"
    },
    {
     "data": {
      "image/png": "[encoded data removed]",
      "text/plain": [
       "<Figure size 432x288 with 1 Axes>"
      ]
     },
     "metadata": {
      "needs_background": "light"
     },
     "output_type": "display_data"
    },
    {
     "data": {
      "image/png": "[encoded data removed]",
      "text/plain": [
       "<Figure size 432x288 with 1 Axes>"
      ]
     },
     "metadata": {
      "needs_background": "light"
     },
     "output_type": "display_data"
    }
   ],
   "source": [
    "for turma, notas in turmas.items():\n",
    "    sns.boxplot(notas).set_title('Turma ' + turma)\n",
    "    plt.show()"
   ]
  },
  {
   "cell_type": "markdown",
   "metadata": {},
   "source": [
    "Observando os três gráficos apresentados acima, podemos concluir que as notas de cada turma apresentam a seguinte distribuição:\n",
    "\n",
    "* Turma A: Simétrica\n",
    "* Turma B: Assimétrica Positiva\n",
    "* Turma C: Assimétrica Negativa\n",
    "\n",
    "A Turma A é a mais homogênea por ter o menor desvio padrão.\n",
    "\n",
    "E apenas a Turma C apresentou *outliers*, que é a nota zero.\n",
    "\n",
    "Embora esta turma tenha apresentado a menor nota dentre as três turmas, o restante das notas são acima ou igual a 6, diferente das outras turmas onde tivemos uma quantidade maior de notas baixas.\n",
    "\n",
    "De forma geral, podemos então dizer que a turma C apresentou um melhor desempenho por conter uma concentração maior de notas altas, e por ter a maior mediana."
   ]
  }
 ],
 "metadata": {
  "kernelspec": {
   "display_name": "Python 3",
   "language": "python",
   "name": "python3"
  },
  "language_info": {
   "codemirror_mode": {
    "name": "ipython",
    "version": 3
   },
   "file_extension": ".py",
   "mimetype": "text/x-python",
   "name": "python",
   "nbconvert_exporter": "python",
   "pygments_lexer": "ipython3",
   "version": "3.8.2"
  }
 },
 "nbformat": 4,
 "nbformat_minor": 4
}

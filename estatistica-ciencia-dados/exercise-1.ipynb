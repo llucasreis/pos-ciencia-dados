{
 "cells": [
  {
   "cell_type": "code",
   "execution_count": 35,
   "metadata": {},
   "outputs": [],
   "source": [
    "import numpy as np\n",
    "import statistics as st\n",
    "import seaborn as sns\n",
    "from scipy import stats\n",
    "import matplotlib.pyplot as plt\n",
    "from scipy.stats import binom, poisson"
   ]
  },
  {
   "cell_type": "code",
   "execution_count": 13,
   "metadata": {},
   "outputs": [],
   "source": [
    "psg_salarios = [9, 10, 12, 13, 14, 14, 16, 18, 23, 37]\n",
    "rm_salarios = [7, 9, 9, 9, 10, 11, 12, 12, 15, 15]\n",
    "\n",
    "times_salarios = {'PSG': psg_salarios, 'Real Madrid': rm_salarios}"
   ]
  },
  {
   "cell_type": "code",
   "execution_count": 14,
   "metadata": {},
   "outputs": [
    {
     "name": "stdout",
     "output_type": "stream",
     "text": [
      "Média aritmética do time PSG: 16.6\n",
      "\n",
      "Média aritmética do time Real Madrid: 10.9\n",
      "\n"
     ]
    }
   ],
   "source": [
    "for time, salarios in times_salarios.items():\n",
    "    print(f'Média aritmética do time {time}: {st.mean(salarios)}\\n')"
   ]
  },
  {
   "cell_type": "code",
   "execution_count": 15,
   "metadata": {},
   "outputs": [
    {
     "name": "stdout",
     "output_type": "stream",
     "text": [
      "Mediana do time PSG: 14.0\n",
      "\n",
      "Mediana do time Real Madrid: 10.5\n",
      "\n"
     ]
    }
   ],
   "source": [
    "for time, salarios in times_salarios.items():\n",
    "    print(f'Mediana do time {time}: {st.median(salarios)}\\n')"
   ]
  },
  {
   "cell_type": "code",
   "execution_count": 16,
   "metadata": {},
   "outputs": [
    {
     "name": "stdout",
     "output_type": "stream",
     "text": [
      "Desvio Padrão Amostral do time PSG: 8.22\n",
      "\n",
      "Desvio Padrão Amostral do time Real Madrid: 2.64\n",
      "\n"
     ]
    }
   ],
   "source": [
    "for time, salarios in times_salarios.items():\n",
    "    print(f'Desvio Padrão Amostral do time {time}: {round(st.stdev(salarios), 2)}\\n')"
   ]
  },
  {
   "cell_type": "code",
   "execution_count": 17,
   "metadata": {},
   "outputs": [
    {
     "name": "stdout",
     "output_type": "stream",
     "text": [
      "Coeficiente de variação do time PSG: 49.53\n",
      "\n",
      "Coeficiente de variação do time Real Madrid: 24.25\n",
      "\n"
     ]
    }
   ],
   "source": [
    "def cv(n):\n",
    "    num = 100*st.stdev(n)/st.mean(n)\n",
    "    return round(num, 2)\n",
    "    \n",
    "for time, salarios in times_salarios.items():\n",
    "    print(f'Coeficiente de variação do time {time}: {cv(salarios)}\\n')"
   ]
  },
  {
   "cell_type": "code",
   "execution_count": 18,
   "metadata": {},
   "outputs": [
    {
     "data": {
      "image/png": "[encoded data removed]",
      "text/plain": [
       "<Figure size 432x288 with 1 Axes>"
      ]
     },
     "metadata": {
      "needs_background": "light"
     },
     "output_type": "display_data"
    },
    {
     "data": {
      "image/png": "[encoded data removed]",
      "text/plain": [
       "<Figure size 432x288 with 1 Axes>"
      ]
     },
     "metadata": {
      "needs_background": "light"
     },
     "output_type": "display_data"
    }
   ],
   "source": [
    "for time, salarios in times_salarios.items():\n",
    "    sns.boxplot(salarios).set_title('Time ' + time)\n",
    "    plt.show()"
   ]
  },
  {
   "cell_type": "markdown",
   "metadata": {},
   "source": [
    "---\n",
    "\n",
    "**Q6.** Após determinado período de testes, observou-se que o procedimento X de recuperação de dados corre um risco de 2% de não se obter resultados satisfatórios. No procedimento Y, o risco cai para 1%. O risco de ambos os procedimentos apresentarem resposta insatisfatória é de 0,5%. Qual a probabilidade de pelo menos um dos procedimentos apresentar resposta insatisifatória?"
   ]
  },
  {
   "cell_type": "markdown",
   "metadata": {},
   "source": [
    "P(X U Y) = P(X) + P(Y) - P(X interseção Y)\n",
    "\n",
    "P(X U Y) = 0.02 + 0.01 - 0.005 = 0.295 = 0.025 = 2.5%"
   ]
  },
  {
   "cell_type": "markdown",
   "metadata": {},
   "source": [
    "---\n",
    "\n",
    "![](./Sistema.jpg)\n",
    "\n",
    "**Q7.** Um sistema tem quatro componentes que operam de forma independente, sendo que cada componente tem probabilidade 0,1 de não funcionar. O sistema é ligado da seguinte forma. Qual a probabilidade de o sistema acima funcionar?\n",
    "\n",
    "*Resposta*: 0.9639"
   ]
  },
  {
   "cell_type": "markdown",
   "metadata": {},
   "source": [
    "---\n",
    "\n",
    "**Q8.** Suponha que 10% dos clientes que compram crédito em uma loja deixam de pagar regularmente suas contas. Se num particular dia, a loja vende a crédito para 10 pessoas, qual a probabilidade de que mais de 20% delas deixem de pagar regularmente as contas?"
   ]
  },
  {
   "cell_type": "code",
   "execution_count": 28,
   "metadata": {},
   "outputs": [
    {
     "name": "stdout",
     "output_type": "stream",
     "text": [
      "P(X>=3):  0.07019082639999996\n"
     ]
    }
   ],
   "source": [
    "print(\"P(X>=3): \", 1 - binom.cdf(2, 10, 0.1))"
   ]
  },
  {
   "cell_type": "markdown",
   "metadata": {},
   "source": [
    "---\n",
    "\n",
    "**Q9.** Uma rede local de computadores é composta por um servidor e cinco clientes (A, B, C, D e E). Registros anteriores indicam que dos pedidos de determinado tipo de procedimento, realizados através de uma consulta, cerca de 10% vêm do cliente A, 15% do B, 15% do C, 40% do D e 20% do E. Se o pedido não for feito de forma adequada, o processamento apresentará erro. Usualmente, ocorrem os seguintes percentuais de pedidos inadequados: 1% do cliente A, 2% do cliente B, 0,5% do cliente C, 2% do cliente D e 8% do cliente E. Qual a probabilidade de o sistema apresentar erro?"
   ]
  },
  {
   "cell_type": "code",
   "execution_count": 34,
   "metadata": {},
   "outputs": [
    {
     "name": "stdout",
     "output_type": "stream",
     "text": [
      "P(E):  0.02875\n"
     ]
    }
   ],
   "source": [
    "prob_pedidos_servidores = [0.1, 0.15, 0.15, 0.4, 0.2]\n",
    "prob_erros_servidores = [0.01, 0.02, 0.005, 0.02, 0.08]\n",
    "\n",
    "prob_soma = 0\n",
    "for servidor, erro in zip(prob_pedidos_servidores, prob_erros_servidores):\n",
    "    prob_soma += servidor * erro\n",
    "\n",
    "print(\"P(E): \", prob_soma)"
   ]
  },
  {
   "cell_type": "markdown",
   "metadata": {},
   "source": [
    "---\n",
    "\n",
    "**Q10.** Um servidor recebe, em média, 300 requisições na hora de maior movimento, e pode processar, no máximo, dez requisições por minuto. Utilizando a distribuição de Poisson, qual a probabilidade de que a capacidade do servidor seja ultrapassado em dado segundo do horário de pico?"
   ]
  },
  {
   "cell_type": "code",
   "execution_count": 38,
   "metadata": {},
   "outputs": [
    {
     "name": "stdout",
     "output_type": "stream",
     "text": [
      "P(X>10):  0.013695268598382881\n"
     ]
    }
   ],
   "source": [
    "print(\"P(X>10): \", 1 - poisson.cdf(10, 5))"
   ]
  },
  {
   "cell_type": "code",
   "execution_count": null,
   "metadata": {},
   "outputs": [],
   "source": []
  }
 ],
 "metadata": {
  "kernelspec": {
   "display_name": "Python 3",
   "language": "python",
   "name": "python3"
  },
  "language_info": {
   "codemirror_mode": {
    "name": "ipython",
    "version": 3
   },
   "file_extension": ".py",
   "mimetype": "text/x-python",
   "name": "python",
   "nbconvert_exporter": "python",
   "pygments_lexer": "ipython3",
   "version": "3.8.2"
  }
 },
 "nbformat": 4,
 "nbformat_minor": 4
}
